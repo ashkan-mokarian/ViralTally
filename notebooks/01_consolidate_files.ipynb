{
 "cells": [
  {
   "cell_type": "markdown",
   "metadata": {},
   "source": [
    "# Description\n",
    "\n",
    "This notebook creates timelapse videos of the scattered files in different\n",
    "folders and organizes them based on the strain of virus and experiment\n",
    "conditions to be used by trackmate in fiji for tracking."
   ]
  },
  {
   "cell_type": "code",
   "execution_count": 1,
   "metadata": {},
   "outputs": [],
   "source": [
    "import os\n",
    "from pathlib import Path\n",
    "\n",
    "import tifffile\n",
    "import numpy as np"
   ]
  },
  {
   "cell_type": "code",
   "execution_count": 2,
   "metadata": {},
   "outputs": [],
   "source": [
    "PROJECT_ROOT = Path(\"/Users/ashkanhzdr/workspace/ViralTally\")\n",
    "DATASET_ROOT = PROJECT_ROOT / \"dataset\" / \"Sars2Plaque\" / \"original\"\n",
    "SAVE_ROOT = PROJECT_ROOT / \"dataset\" / \"Sars2Plaque\" / \"processed\""
   ]
  },
  {
   "cell_type": "code",
   "execution_count": 3,
   "metadata": {},
   "outputs": [
    {
     "name": "stdout",
     "output_type": "stream",
     "text": [
      "[PosixPath('/Users/ashkanhzdr/workspace/ViralTally/dataset/Sars2Plaque/original/TimePoint_1/231113-LRRK2i_A01_s1_w1.TIF'), PosixPath('/Users/ashkanhzdr/workspace/ViralTally/dataset/Sars2Plaque/original/TimePoint_2/231113-LRRK2i_A01_s1_w1.TIF'), PosixPath('/Users/ashkanhzdr/workspace/ViralTally/dataset/Sars2Plaque/original/TimePoint_3/231113-LRRK2i_A01_s1_w1.TIF'), PosixPath('/Users/ashkanhzdr/workspace/ViralTally/dataset/Sars2Plaque/original/TimePoint_4/231113-LRRK2i_A01_s1_w1.TIF'), PosixPath('/Users/ashkanhzdr/workspace/ViralTally/dataset/Sars2Plaque/original/TimePoint_5/231113-LRRK2i_A01_s1_w1.TIF'), PosixPath('/Users/ashkanhzdr/workspace/ViralTally/dataset/Sars2Plaque/original/TimePoint_6/231113-LRRK2i_A01_s1_w1.TIF'), PosixPath('/Users/ashkanhzdr/workspace/ViralTally/dataset/Sars2Plaque/original/TimePoint_7/231113-LRRK2i_A01_s1_w1.TIF'), PosixPath('/Users/ashkanhzdr/workspace/ViralTally/dataset/Sars2Plaque/original/TimePoint_8/231113-LRRK2i_A01_s1_w1.TIF'), PosixPath('/Users/ashkanhzdr/workspace/ViralTally/dataset/Sars2Plaque/original/TimePoint_9/231113-LRRK2i_A01_s1_w1.TIF'), PosixPath('/Users/ashkanhzdr/workspace/ViralTally/dataset/Sars2Plaque/original/TimePoint_10/231113-LRRK2i_A01_s1_w1.TIF'), PosixPath('/Users/ashkanhzdr/workspace/ViralTally/dataset/Sars2Plaque/original/TimePoint_11/231113-LRRK2i_A01_s1_w1.TIF'), PosixPath('/Users/ashkanhzdr/workspace/ViralTally/dataset/Sars2Plaque/original/TimePoint_12/231113-LRRK2i_A01_s1_w1.TIF'), PosixPath('/Users/ashkanhzdr/workspace/ViralTally/dataset/Sars2Plaque/original/TimePoint_13/231113-LRRK2i_A01_s1_w1.TIF'), PosixPath('/Users/ashkanhzdr/workspace/ViralTally/dataset/Sars2Plaque/original/TimePoint_14/231113-LRRK2i_A01_s1_w1.TIF'), PosixPath('/Users/ashkanhzdr/workspace/ViralTally/dataset/Sars2Plaque/original/TimePoint_15/231113-LRRK2i_A01_s1_w1.TIF'), PosixPath('/Users/ashkanhzdr/workspace/ViralTally/dataset/Sars2Plaque/original/TimePoint_16/231113-LRRK2i_A01_s1_w1.TIF'), PosixPath('/Users/ashkanhzdr/workspace/ViralTally/dataset/Sars2Plaque/original/TimePoint_17/231113-LRRK2i_A01_s1_w1.TIF'), PosixPath('/Users/ashkanhzdr/workspace/ViralTally/dataset/Sars2Plaque/original/TimePoint_18/231113-LRRK2i_A01_s1_w1.TIF'), PosixPath('/Users/ashkanhzdr/workspace/ViralTally/dataset/Sars2Plaque/original/TimePoint_19/231113-LRRK2i_A01_s1_w1.TIF'), PosixPath('/Users/ashkanhzdr/workspace/ViralTally/dataset/Sars2Plaque/original/TimePoint_20/231113-LRRK2i_A01_s1_w1.TIF'), PosixPath('/Users/ashkanhzdr/workspace/ViralTally/dataset/Sars2Plaque/original/TimePoint_21/231113-LRRK2i_A01_s1_w1.TIF'), PosixPath('/Users/ashkanhzdr/workspace/ViralTally/dataset/Sars2Plaque/original/TimePoint_22/231113-LRRK2i_A01_s1_w1.TIF'), PosixPath('/Users/ashkanhzdr/workspace/ViralTally/dataset/Sars2Plaque/original/TimePoint_23/231113-LRRK2i_A01_s1_w1.TIF'), PosixPath('/Users/ashkanhzdr/workspace/ViralTally/dataset/Sars2Plaque/original/TimePoint_24/231113-LRRK2i_A01_s1_w1.TIF'), PosixPath('/Users/ashkanhzdr/workspace/ViralTally/dataset/Sars2Plaque/original/TimePoint_25/231113-LRRK2i_A01_s1_w1.TIF'), PosixPath('/Users/ashkanhzdr/workspace/ViralTally/dataset/Sars2Plaque/original/TimePoint_26/231113-LRRK2i_A01_s1_w1.TIF'), PosixPath('/Users/ashkanhzdr/workspace/ViralTally/dataset/Sars2Plaque/original/TimePoint_27/231113-LRRK2i_A01_s1_w1.TIF'), PosixPath('/Users/ashkanhzdr/workspace/ViralTally/dataset/Sars2Plaque/original/TimePoint_28/231113-LRRK2i_A01_s1_w1.TIF'), PosixPath('/Users/ashkanhzdr/workspace/ViralTally/dataset/Sars2Plaque/original/TimePoint_29/231113-LRRK2i_A01_s1_w1.TIF'), PosixPath('/Users/ashkanhzdr/workspace/ViralTally/dataset/Sars2Plaque/original/TimePoint_30/231113-LRRK2i_A01_s1_w1.TIF'), PosixPath('/Users/ashkanhzdr/workspace/ViralTally/dataset/Sars2Plaque/original/TimePoint_31/231113-LRRK2i_A01_s1_w1.TIF'), PosixPath('/Users/ashkanhzdr/workspace/ViralTally/dataset/Sars2Plaque/original/TimePoint_32/231113-LRRK2i_A01_s1_w1.TIF'), PosixPath('/Users/ashkanhzdr/workspace/ViralTally/dataset/Sars2Plaque/original/TimePoint_33/231113-LRRK2i_A01_s1_w1.TIF'), PosixPath('/Users/ashkanhzdr/workspace/ViralTally/dataset/Sars2Plaque/original/TimePoint_34/231113-LRRK2i_A01_s1_w1.TIF'), PosixPath('/Users/ashkanhzdr/workspace/ViralTally/dataset/Sars2Plaque/original/TimePoint_35/231113-LRRK2i_A01_s1_w1.TIF'), PosixPath('/Users/ashkanhzdr/workspace/ViralTally/dataset/Sars2Plaque/original/TimePoint_36/231113-LRRK2i_A01_s1_w1.TIF'), PosixPath('/Users/ashkanhzdr/workspace/ViralTally/dataset/Sars2Plaque/original/TimePoint_37/231113-LRRK2i_A01_s1_w1.TIF'), PosixPath('/Users/ashkanhzdr/workspace/ViralTally/dataset/Sars2Plaque/original/TimePoint_38/231113-LRRK2i_A01_s1_w1.TIF'), PosixPath('/Users/ashkanhzdr/workspace/ViralTally/dataset/Sars2Plaque/original/TimePoint_39/231113-LRRK2i_A01_s1_w1.TIF'), PosixPath('/Users/ashkanhzdr/workspace/ViralTally/dataset/Sars2Plaque/original/TimePoint_40/231113-LRRK2i_A01_s1_w1.TIF'), PosixPath('/Users/ashkanhzdr/workspace/ViralTally/dataset/Sars2Plaque/original/TimePoint_41/231113-LRRK2i_A01_s1_w1.TIF'), PosixPath('/Users/ashkanhzdr/workspace/ViralTally/dataset/Sars2Plaque/original/TimePoint_42/231113-LRRK2i_A01_s1_w1.TIF'), PosixPath('/Users/ashkanhzdr/workspace/ViralTally/dataset/Sars2Plaque/original/TimePoint_43/231113-LRRK2i_A01_s1_w1.TIF'), PosixPath('/Users/ashkanhzdr/workspace/ViralTally/dataset/Sars2Plaque/original/TimePoint_44/231113-LRRK2i_A01_s1_w1.TIF'), PosixPath('/Users/ashkanhzdr/workspace/ViralTally/dataset/Sars2Plaque/original/TimePoint_45/231113-LRRK2i_A01_s1_w1.TIF'), PosixPath('/Users/ashkanhzdr/workspace/ViralTally/dataset/Sars2Plaque/original/TimePoint_46/231113-LRRK2i_A01_s1_w1.TIF')]\n"
     ]
    }
   ],
   "source": [
    "def get_ordered_timelapse_file_list(fn, dataset_root=DATASET_ROOT):\n",
    "    files = []\n",
    "    for frame_no in range(1, 47):\n",
    "        dir_name = f\"TimePoint_{frame_no}\"\n",
    "        file = dataset_root / dir_name / fn\n",
    "        if not os.path.exists(file):\n",
    "            raise FileNotFoundError(f\"File not found: {file}\")\n",
    "        files.append(file)\n",
    "    return files\n",
    "\n",
    "print(get_ordered_timelapse_file_list(fn=\"231113-LRRK2i_A01_s1_w1.TIF\"))"
   ]
  },
  {
   "cell_type": "code",
   "execution_count": 4,
   "metadata": {},
   "outputs": [],
   "source": [
    "def get_1channel_timelapse_from_list(files):\n",
    "    tiff_data = []\n",
    "    for f in files:\n",
    "        tiff_data.append(tifffile.imread(f))\n",
    "    merged_tiff = np.stack(tiff_data, axis=0)\n",
    "    return merged_tiff\n",
    "\n",
    "def merge_timelapse_into_2channel(ch1_tiff, ch2_tiff, save_path=None):\n",
    "    stacked_data = np.stack([ch1_tiff, ch2_tiff], axis=1)\n",
    "    if save_path:\n",
    "        tifffile.imwrite(save_path, stacked_data, imagej=True, metadata={'axes': 'TCYX'})\n",
    "    return stacked_data"
   ]
  },
  {
   "cell_type": "code",
   "execution_count": 5,
   "metadata": {},
   "outputs": [],
   "source": [
    "def consolidate_timelapse_data(fn, save_path):\n",
    "    files1 = get_ordered_timelapse_file_list(fn.replace('channel', 'w1'))\n",
    "    files2 = get_ordered_timelapse_file_list(fn.replace('channel', 'w2'))\n",
    "    video1 = get_1channel_timelapse_from_list(files1)\n",
    "    video2 = get_1channel_timelapse_from_list(files2)\n",
    "    return merge_timelapse_into_2channel(video1, video2, save_path)"
   ]
  },
  {
   "cell_type": "code",
   "execution_count": 6,
   "metadata": {},
   "outputs": [],
   "source": [
    "def consolidate_dataset(exp_well_maps, save_root):\n",
    "    parts = [\"s1\", \"s2\", \"s3\", \"s4\"]\n",
    "    for exp_id, wells in exp_well_maps.items():\n",
    "        os.makedirs(save_root / exp_id, exist_ok=True)\n",
    "        for well in wells:\n",
    "            for part in parts:\n",
    "                save_path = save_root / exp_id / f\"{well}_{part}.tiff\"\n",
    "                fn = f\"231113-LRRK2i_{well}_{part}_channel.TIF\"\n",
    "                _ = consolidate_timelapse_data(fn=fn, save_path=save_path)\n",
    "                print(f\"Saved {save_path}\")"
   ]
  },
  {
   "cell_type": "markdown",
   "metadata": {},
   "source": [
    "# First set of experiments"
   ]
  },
  {
   "cell_type": "code",
   "execution_count": 7,
   "metadata": {},
   "outputs": [],
   "source": [
    "wells = {\n",
    "    \"Vero_DMSO\": [\"A07\", \"B07\", \"C07\", \"D07\", \"E07\", \"F07\", \"G07\", \"A09\", \"A10\"],\n",
    "    \"Vero_inhibitor\": [\"A08\", \"B08\", \"C08\", \"D08\", \"E08\", \"F08\", \"G08\", \"A11\", \"A12\"],\n",
    "    # \"ACE2_A549_DMSO\": [\"A01\", \"B01\", \"C01\", \"D01\", \"E01\", \"F01\", \"G01\", \"H01\", \"A03\", \"A04\"],\n",
    "    # \"ACE2_A549_inhibitor\": [\"A02\", \"B02\", \"C02\", \"D02\", \"E02\", \"F02\", \"G02\", \"H02\", \"A05\", \"A06\"],\n",
    "}"
   ]
  },
  {
   "cell_type": "code",
   "execution_count": 8,
   "metadata": {},
   "outputs": [
    {
     "name": "stdout",
     "output_type": "stream",
     "text": [
      "Saved /Users/ashkanhzdr/workspace/ViralTally/dataset/Sars2Plaque/processed/Vero_DMSO/A07_s1.tiff\n",
      "Saved /Users/ashkanhzdr/workspace/ViralTally/dataset/Sars2Plaque/processed/Vero_DMSO/A07_s2.tiff\n",
      "Saved /Users/ashkanhzdr/workspace/ViralTally/dataset/Sars2Plaque/processed/Vero_DMSO/A07_s3.tiff\n",
      "Saved /Users/ashkanhzdr/workspace/ViralTally/dataset/Sars2Plaque/processed/Vero_DMSO/A07_s4.tiff\n",
      "Saved /Users/ashkanhzdr/workspace/ViralTally/dataset/Sars2Plaque/processed/Vero_DMSO/B07_s1.tiff\n",
      "Saved /Users/ashkanhzdr/workspace/ViralTally/dataset/Sars2Plaque/processed/Vero_DMSO/B07_s2.tiff\n",
      "Saved /Users/ashkanhzdr/workspace/ViralTally/dataset/Sars2Plaque/processed/Vero_DMSO/B07_s3.tiff\n",
      "Saved /Users/ashkanhzdr/workspace/ViralTally/dataset/Sars2Plaque/processed/Vero_DMSO/B07_s4.tiff\n",
      "Saved /Users/ashkanhzdr/workspace/ViralTally/dataset/Sars2Plaque/processed/Vero_DMSO/C07_s1.tiff\n",
      "Saved /Users/ashkanhzdr/workspace/ViralTally/dataset/Sars2Plaque/processed/Vero_DMSO/C07_s2.tiff\n",
      "Saved /Users/ashkanhzdr/workspace/ViralTally/dataset/Sars2Plaque/processed/Vero_DMSO/C07_s3.tiff\n",
      "Saved /Users/ashkanhzdr/workspace/ViralTally/dataset/Sars2Plaque/processed/Vero_DMSO/C07_s4.tiff\n",
      "Saved /Users/ashkanhzdr/workspace/ViralTally/dataset/Sars2Plaque/processed/Vero_DMSO/D07_s1.tiff\n",
      "Saved /Users/ashkanhzdr/workspace/ViralTally/dataset/Sars2Plaque/processed/Vero_DMSO/D07_s2.tiff\n",
      "Saved /Users/ashkanhzdr/workspace/ViralTally/dataset/Sars2Plaque/processed/Vero_DMSO/D07_s3.tiff\n",
      "Saved /Users/ashkanhzdr/workspace/ViralTally/dataset/Sars2Plaque/processed/Vero_DMSO/D07_s4.tiff\n",
      "Saved /Users/ashkanhzdr/workspace/ViralTally/dataset/Sars2Plaque/processed/Vero_DMSO/E07_s1.tiff\n",
      "Saved /Users/ashkanhzdr/workspace/ViralTally/dataset/Sars2Plaque/processed/Vero_DMSO/E07_s2.tiff\n",
      "Saved /Users/ashkanhzdr/workspace/ViralTally/dataset/Sars2Plaque/processed/Vero_DMSO/E07_s3.tiff\n",
      "Saved /Users/ashkanhzdr/workspace/ViralTally/dataset/Sars2Plaque/processed/Vero_DMSO/E07_s4.tiff\n",
      "Saved /Users/ashkanhzdr/workspace/ViralTally/dataset/Sars2Plaque/processed/Vero_DMSO/F07_s1.tiff\n",
      "Saved /Users/ashkanhzdr/workspace/ViralTally/dataset/Sars2Plaque/processed/Vero_DMSO/F07_s2.tiff\n",
      "Saved /Users/ashkanhzdr/workspace/ViralTally/dataset/Sars2Plaque/processed/Vero_DMSO/F07_s3.tiff\n",
      "Saved /Users/ashkanhzdr/workspace/ViralTally/dataset/Sars2Plaque/processed/Vero_DMSO/F07_s4.tiff\n",
      "Saved /Users/ashkanhzdr/workspace/ViralTally/dataset/Sars2Plaque/processed/Vero_DMSO/G07_s1.tiff\n",
      "Saved /Users/ashkanhzdr/workspace/ViralTally/dataset/Sars2Plaque/processed/Vero_DMSO/G07_s2.tiff\n",
      "Saved /Users/ashkanhzdr/workspace/ViralTally/dataset/Sars2Plaque/processed/Vero_DMSO/G07_s3.tiff\n",
      "Saved /Users/ashkanhzdr/workspace/ViralTally/dataset/Sars2Plaque/processed/Vero_DMSO/G07_s4.tiff\n",
      "Saved /Users/ashkanhzdr/workspace/ViralTally/dataset/Sars2Plaque/processed/Vero_DMSO/A09_s1.tiff\n",
      "Saved /Users/ashkanhzdr/workspace/ViralTally/dataset/Sars2Plaque/processed/Vero_DMSO/A09_s2.tiff\n",
      "Saved /Users/ashkanhzdr/workspace/ViralTally/dataset/Sars2Plaque/processed/Vero_DMSO/A09_s3.tiff\n",
      "Saved /Users/ashkanhzdr/workspace/ViralTally/dataset/Sars2Plaque/processed/Vero_DMSO/A09_s4.tiff\n",
      "Saved /Users/ashkanhzdr/workspace/ViralTally/dataset/Sars2Plaque/processed/Vero_DMSO/A10_s1.tiff\n",
      "Saved /Users/ashkanhzdr/workspace/ViralTally/dataset/Sars2Plaque/processed/Vero_DMSO/A10_s2.tiff\n",
      "Saved /Users/ashkanhzdr/workspace/ViralTally/dataset/Sars2Plaque/processed/Vero_DMSO/A10_s3.tiff\n",
      "Saved /Users/ashkanhzdr/workspace/ViralTally/dataset/Sars2Plaque/processed/Vero_DMSO/A10_s4.tiff\n",
      "Saved /Users/ashkanhzdr/workspace/ViralTally/dataset/Sars2Plaque/processed/Vero_inhibitor/A08_s1.tiff\n",
      "Saved /Users/ashkanhzdr/workspace/ViralTally/dataset/Sars2Plaque/processed/Vero_inhibitor/A08_s2.tiff\n",
      "Saved /Users/ashkanhzdr/workspace/ViralTally/dataset/Sars2Plaque/processed/Vero_inhibitor/A08_s3.tiff\n",
      "Saved /Users/ashkanhzdr/workspace/ViralTally/dataset/Sars2Plaque/processed/Vero_inhibitor/A08_s4.tiff\n",
      "Saved /Users/ashkanhzdr/workspace/ViralTally/dataset/Sars2Plaque/processed/Vero_inhibitor/B08_s1.tiff\n",
      "Saved /Users/ashkanhzdr/workspace/ViralTally/dataset/Sars2Plaque/processed/Vero_inhibitor/B08_s2.tiff\n",
      "Saved /Users/ashkanhzdr/workspace/ViralTally/dataset/Sars2Plaque/processed/Vero_inhibitor/B08_s3.tiff\n",
      "Saved /Users/ashkanhzdr/workspace/ViralTally/dataset/Sars2Plaque/processed/Vero_inhibitor/B08_s4.tiff\n",
      "Saved /Users/ashkanhzdr/workspace/ViralTally/dataset/Sars2Plaque/processed/Vero_inhibitor/C08_s1.tiff\n",
      "Saved /Users/ashkanhzdr/workspace/ViralTally/dataset/Sars2Plaque/processed/Vero_inhibitor/C08_s2.tiff\n",
      "Saved /Users/ashkanhzdr/workspace/ViralTally/dataset/Sars2Plaque/processed/Vero_inhibitor/C08_s3.tiff\n",
      "Saved /Users/ashkanhzdr/workspace/ViralTally/dataset/Sars2Plaque/processed/Vero_inhibitor/C08_s4.tiff\n",
      "Saved /Users/ashkanhzdr/workspace/ViralTally/dataset/Sars2Plaque/processed/Vero_inhibitor/D08_s1.tiff\n",
      "Saved /Users/ashkanhzdr/workspace/ViralTally/dataset/Sars2Plaque/processed/Vero_inhibitor/D08_s2.tiff\n",
      "Saved /Users/ashkanhzdr/workspace/ViralTally/dataset/Sars2Plaque/processed/Vero_inhibitor/D08_s3.tiff\n",
      "Saved /Users/ashkanhzdr/workspace/ViralTally/dataset/Sars2Plaque/processed/Vero_inhibitor/D08_s4.tiff\n",
      "Saved /Users/ashkanhzdr/workspace/ViralTally/dataset/Sars2Plaque/processed/Vero_inhibitor/E08_s1.tiff\n",
      "Saved /Users/ashkanhzdr/workspace/ViralTally/dataset/Sars2Plaque/processed/Vero_inhibitor/E08_s2.tiff\n",
      "Saved /Users/ashkanhzdr/workspace/ViralTally/dataset/Sars2Plaque/processed/Vero_inhibitor/E08_s3.tiff\n",
      "Saved /Users/ashkanhzdr/workspace/ViralTally/dataset/Sars2Plaque/processed/Vero_inhibitor/E08_s4.tiff\n",
      "Saved /Users/ashkanhzdr/workspace/ViralTally/dataset/Sars2Plaque/processed/Vero_inhibitor/F08_s1.tiff\n",
      "Saved /Users/ashkanhzdr/workspace/ViralTally/dataset/Sars2Plaque/processed/Vero_inhibitor/F08_s2.tiff\n",
      "Saved /Users/ashkanhzdr/workspace/ViralTally/dataset/Sars2Plaque/processed/Vero_inhibitor/F08_s3.tiff\n",
      "Saved /Users/ashkanhzdr/workspace/ViralTally/dataset/Sars2Plaque/processed/Vero_inhibitor/F08_s4.tiff\n",
      "Saved /Users/ashkanhzdr/workspace/ViralTally/dataset/Sars2Plaque/processed/Vero_inhibitor/G08_s1.tiff\n",
      "Saved /Users/ashkanhzdr/workspace/ViralTally/dataset/Sars2Plaque/processed/Vero_inhibitor/G08_s2.tiff\n",
      "Saved /Users/ashkanhzdr/workspace/ViralTally/dataset/Sars2Plaque/processed/Vero_inhibitor/G08_s3.tiff\n",
      "Saved /Users/ashkanhzdr/workspace/ViralTally/dataset/Sars2Plaque/processed/Vero_inhibitor/G08_s4.tiff\n",
      "Saved /Users/ashkanhzdr/workspace/ViralTally/dataset/Sars2Plaque/processed/Vero_inhibitor/A11_s1.tiff\n",
      "Saved /Users/ashkanhzdr/workspace/ViralTally/dataset/Sars2Plaque/processed/Vero_inhibitor/A11_s2.tiff\n",
      "Saved /Users/ashkanhzdr/workspace/ViralTally/dataset/Sars2Plaque/processed/Vero_inhibitor/A11_s3.tiff\n",
      "Saved /Users/ashkanhzdr/workspace/ViralTally/dataset/Sars2Plaque/processed/Vero_inhibitor/A11_s4.tiff\n",
      "Saved /Users/ashkanhzdr/workspace/ViralTally/dataset/Sars2Plaque/processed/Vero_inhibitor/A12_s1.tiff\n",
      "Saved /Users/ashkanhzdr/workspace/ViralTally/dataset/Sars2Plaque/processed/Vero_inhibitor/A12_s2.tiff\n",
      "Saved /Users/ashkanhzdr/workspace/ViralTally/dataset/Sars2Plaque/processed/Vero_inhibitor/A12_s3.tiff\n",
      "Saved /Users/ashkanhzdr/workspace/ViralTally/dataset/Sars2Plaque/processed/Vero_inhibitor/A12_s4.tiff\n"
     ]
    }
   ],
   "source": [
    "consolidate_dataset(exp_well_maps=wells, save_root=SAVE_ROOT)"
   ]
  }
 ],
 "metadata": {
  "kernelspec": {
   "display_name": "venv",
   "language": "python",
   "name": "python3"
  },
  "language_info": {
   "codemirror_mode": {
    "name": "ipython",
    "version": 3
   },
   "file_extension": ".py",
   "mimetype": "text/x-python",
   "name": "python",
   "nbconvert_exporter": "python",
   "pygments_lexer": "ipython3",
   "version": "3.11.4"
  }
 },
 "nbformat": 4,
 "nbformat_minor": 2
}
